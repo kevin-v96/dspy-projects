{
 "cells": [
  {
   "cell_type": "code",
   "execution_count": 2,
   "metadata": {},
   "outputs": [
    {
     "name": "stderr",
     "output_type": "stream",
     "text": [
      "/Users/kevinvegda/Desktop/code/dspy-projects/.venv/lib/python3.12/site-packages/tqdm/auto.py:21: TqdmWarning: IProgress not found. Please update jupyter and ipywidgets. See https://ipywidgets.readthedocs.io/en/stable/user_install.html\n",
      "  from .autonotebook import tqdm as notebook_tqdm\n",
      "/Users/kevinvegda/Desktop/code/dspy-projects/.venv/lib/python3.12/site-packages/dsp/templates/template_v2.py:35: SyntaxWarning: invalid escape sequence '\\s'\n",
      "  match = re.search(\"(.*)(\\s){(.*)}\\s(.*\\${.*})\", template)\n",
      "/Users/kevinvegda/Desktop/code/dspy-projects/.venv/lib/python3.12/site-packages/dsp/templates/template_v2.py:42: SyntaxWarning: invalid escape sequence '\\s'\n",
      "  match = re.search(\"(.*)(\\s){(.*)}\", template)\n"
     ]
    }
   ],
   "source": [
    "import dspy\n",
    "\n",
    "mini = dspy.OpenAI(model = \"gpt-4o-mini\")\n",
    "colbertv2_wiki17_abstracts = dspy.ColBERTv2(url = 'http://20.102.90.50:2017/wiki17_abstracts')\n",
    "\n",
    "dspy.settings.configure(lm = mini, rm = colbertv2_wiki17_abstracts)"
   ]
  },
  {
   "cell_type": "code",
   "execution_count": 3,
   "metadata": {},
   "outputs": [
    {
     "data": {
      "text/plain": [
       "True"
      ]
     },
     "execution_count": 3,
     "metadata": {},
     "output_type": "execute_result"
    }
   ],
   "source": [
    "from dotenv import load_dotenv\n",
    "load_dotenv()"
   ]
  },
  {
   "cell_type": "code",
   "execution_count": 5,
   "metadata": {},
   "outputs": [
    {
     "name": "stderr",
     "output_type": "stream",
     "text": [
      "Downloading data: 100%|██████████| 566M/566M [02:58<00:00, 3.17MB/s]\n",
      "Downloading data: 100%|██████████| 47.5M/47.5M [00:23<00:00, 2.01MB/s]\n",
      "Downloading data: 100%|██████████| 46.2M/46.2M [00:13<00:00, 3.40MB/s]\n",
      "Downloading data files: 100%|██████████| 3/3 [03:37<00:00, 72.37s/it]\n",
      "Generating train split: 100%|██████████| 90447/90447 [00:13<00:00, 6927.40 examples/s] \n",
      "Generating validation split: 100%|██████████| 7405/7405 [00:00<00:00, 8342.67 examples/s] \n",
      "Generating test split: 100%|██████████| 7405/7405 [00:01<00:00, 7222.01 examples/s]\n",
      "/Users/kevinvegda/Desktop/code/dspy-projects/.venv/lib/python3.12/site-packages/datasets/table.py:1421: FutureWarning: promote has been superseded by promote_options='default'.\n",
      "  table = cls._concat_blocks(blocks, axis=0)\n"
     ]
    },
    {
     "data": {
      "text/plain": [
       "(20, 50)"
      ]
     },
     "execution_count": 5,
     "metadata": {},
     "output_type": "execute_result"
    }
   ],
   "source": [
    "from dspy.datasets import HotPotQA\n",
    "\n",
    "dataset = HotPotQA(train_seed = 1, train_size = 20, eval_seed = 42, dev_size = 50, test_size = 0)\n",
    "trainset = [x.with_inputs('question') for x in dataset.train]\n",
    "devset = [x.with_inputs('question') for x in dataset.dev]\n",
    "\n",
    "len(trainset), len(devset)"
   ]
  },
  {
   "cell_type": "code",
   "execution_count": 6,
   "metadata": {},
   "outputs": [],
   "source": [
    "class GenerateAnswer(dspy.Signature):\n",
    "    \"\"\"Answer questions with short factoid answers\"\"\"\n",
    "\n",
    "    context = dspy.InputField(desc = \"may contain relevant facts\")\n",
    "    question = dspy.InputField()\n",
    "    answer = dspy.OutputField(desc = \"often between 1 and 5 words\")"
   ]
  },
  {
   "cell_type": "code",
   "execution_count": 7,
   "metadata": {},
   "outputs": [],
   "source": [
    "class RAG(dspy.Module):\n",
    "    def __init__(self, num_passages = 3):\n",
    "        super().__init__()\n",
    "\n",
    "        self.retrieve = dspy.Retrieve(k = num_passages)\n",
    "        self.generate_answer = dspy.ChainOfThought(GenerateAnswer)\n",
    "\n",
    "    def forward(self, question):\n",
    "        context = self.retrieve(question).passages\n",
    "        prediction = self.generate_answer(context = context, question = question)\n",
    "        return dspy.Prediction(context = context, answer = prediction.answer)"
   ]
  },
  {
   "cell_type": "code",
   "execution_count": 8,
   "metadata": {},
   "outputs": [
    {
     "name": "stderr",
     "output_type": "stream",
     "text": [
      " 55%|█████▌    | 11/20 [00:13<00:10,  1.21s/it]"
     ]
    },
    {
     "name": "stdout",
     "output_type": "stream",
     "text": [
      "Bootstrapped 4 full traces after 12 examples in round 0.\n"
     ]
    },
    {
     "name": "stderr",
     "output_type": "stream",
     "text": [
      "\n"
     ]
    }
   ],
   "source": [
    "import dspy.evaluate\n",
    "from dspy.teleprompt import BootstrapFewShot\n",
    "\n",
    "def validate_context_and_answer(example, pred, trace = None):\n",
    "    answer_EM = dspy.evaluate.answer_exact_match(example, pred)\n",
    "    answer_PM = dspy.evaluate.answer_passage_match(example, pred)\n",
    "    return answer_EM and answer_PM\n",
    "\n",
    "optimizer = BootstrapFewShot(metric=validate_context_and_answer)\n",
    "compiled_rag = optimizer.compile(RAG(), trainset = trainset)"
   ]
  },
  {
   "cell_type": "code",
   "execution_count": 9,
   "metadata": {},
   "outputs": [
    {
     "name": "stdout",
     "output_type": "stream",
     "text": [
      "Question: How many floors does the Empire State Building have?\n",
      "Predicted Answer: 102 floors\n",
      "Retrieved Contexts (truncated): ['Empire State Building | The Empire State Building is a 102-story skyscraper located on Fifth Avenue between West 33rd and 34th Streets in Midtown, Manhattan, New York City. It has a roof height of 1,2...', 'Empire, Colombo | The Empire is a residential complex consisting of two identical towers of 33 and 37 floors. The towers consists of a total of 104 apartments, including four penthouses with floor spa...', '15 Penn Plaza | 15 Penn Plaza, also known as the Vornado Tower, is a proposed 68-story tower in the Midtown Manhattan section of New York City planned by Vornado Realty Trust. It would have 430 units ...']\n"
     ]
    }
   ],
   "source": [
    "my_question = \"How many floors does the Empire State Building have?\"\n",
    "\n",
    "pred = compiled_rag(my_question)\n",
    "\n",
    "print(f\"Question: {my_question}\")\n",
    "print(f\"Predicted Answer: {pred.answer}\")\n",
    "print(f\"Retrieved Contexts (truncated): {[c[:200] + '...' for c in pred.context]}\")"
   ]
  },
  {
   "cell_type": "code",
   "execution_count": 11,
   "metadata": {},
   "outputs": [
    {
     "name": "stdout",
     "output_type": "stream",
     "text": [
      "\n",
      "\n",
      "\n",
      "\n",
      "Answer questions with short factoid answers\n",
      "\n",
      "---\n",
      "\n",
      "Question: At My Window was released by which American singer-songwriter?\n",
      "Answer: John Townes Van Zandt\n",
      "\n",
      "Question: \"Everything Has Changed\" is a song from an album released under which record label ?\n",
      "Answer: Big Machine Records\n",
      "\n",
      "Question: The Victorians - Their Story In Pictures is a documentary series written by an author born in what year?\n",
      "Answer: 1950\n",
      "\n",
      "Question: Which Pakistani cricket umpire who won 3 consecutive ICC umpire of the year awards in 2009, 2010, and 2011 will be in the ICC World Twenty20?\n",
      "Answer: Aleem Sarwar Dar\n",
      "\n",
      "Question: Having the combination of excellent foot speed and bat speed helped Eric Davis, create what kind of outfield for the Los Angeles Dodgers?\n",
      "Answer: \"Outfield of Dreams\"\n",
      "\n",
      "Question: Who is older, Aleksandr Danilovich Aleksandrov or Anatoly Fomenko?\n",
      "Answer: Aleksandr Danilovich Aleksandrov\n",
      "\n",
      "Question: The Organisation that allows a community to influence their operation or use and to enjoy the benefits arisingwas founded in what year?\n",
      "Answer: 2010\n",
      "\n",
      "Question: Tombstone stared an actor born May 17, 1955 known as who?\n",
      "Answer: Bill Paxton\n",
      "\n",
      "Question: In what year was the club founded that played Manchester City in the 1972 FA Charity Shield\n",
      "Answer: 1874\n",
      "\n",
      "Question: which American actor was Candace Kita guest starred with\n",
      "Answer: Bill Murray\n",
      "\n",
      "Question: Which is taller, the Empire State Building or the Bank of America Tower?\n",
      "Answer: The Empire State Building\n",
      "\n",
      "Question: Which company distributed this 1977 American animated film produced by Walt Disney Productions for which Sherman Brothers wrote songs?\n",
      "Answer: Buena Vista Distribution\n",
      "\n",
      "---\n",
      "\n",
      "Follow the following format.\n",
      "\n",
      "Context: may contain relevant facts\n",
      "\n",
      "Question: ${question}\n",
      "\n",
      "Reasoning: Let's think step by step in order to ${produce the answer}. We ...\n",
      "\n",
      "Answer: often between 1 and 5 words\n",
      "\n",
      "---\n",
      "\n",
      "Context:\n",
      "[1] «Tae Kwon Do Times | Tae Kwon Do Times is a magazine devoted to the martial art of taekwondo, and is published in the United States of America. While the title suggests that it focuses on taekwondo exclusively, the magazine also covers other Korean martial arts. \"Tae Kwon Do Times\" has published articles by a wide range of authors, including He-Young Kimm, Thomas Kurz, Scott Shaw, and Mark Van Schuyver.»\n",
      "[2] «Kwon Tae-man | Kwon Tae-man (born 1941) was an early Korean hapkido practitioner and a pioneer of the art, first in Korea and then in the United States. He formed one of the earliest dojang's for hapkido in the United States in Torrance, California, and has been featured in many magazine articles promoting the art.»\n",
      "[3] «Hee Il Cho | Cho Hee Il (born October 13, 1940) is a prominent Korean-American master of taekwondo, holding the rank of 9th \"dan\" in the martial art. He has written 11 martial art books, produced 70 martial art training videos, and has appeared on more than 70 martial arts magazine covers. Cho won several national and international competitions as a taekwondo competitor, and has appeared in several films, including \"Fight to Win\", \"Best of the Best\", \"Bloodsport II\", and \"Bloodsport III\". He founded the Action International Martial Arts Association (AIMAA) in 1980, and is its President. Cho is a member of both \"Black Belt\" magazine's Hall of Fame and \"Tae Kwon Do Times\" magazine's Hall of Fame.»\n",
      "\n",
      "Question: Which magazine has published articles by Scott Shaw, Tae Kwon Do Times or Southwest Art?\n",
      "\n",
      "Reasoning: Let's think step by step in order to determine which magazine published articles by Scott Shaw. The context mentions that \"Tae Kwon Do Times\" has published articles by a wide range of authors, including Scott Shaw. There is no mention of Scott Shaw in relation to \"Southwest Art.\" Therefore, we conclude that the magazine that published articles by Scott Shaw is \"Tae Kwon Do Times.\"\n",
      "\n",
      "Answer: Tae Kwon Do Times\n",
      "\n",
      "---\n",
      "\n",
      "Context:\n",
      "[1] «Rosario Dawson | Rosario Isabel Dawson (born May 9, 1979) is an American actress, producer, singer, comic book writer, and political activist. She made her film debut in the 1995 teen drama \"Kids\". Her subsequent film roles include \"He Got Game\", \"Men in Black II\", \"25th Hour\", \"Rent\", \"Sin City\", \"Death Proof\", \"Seven Pounds\", \"\", and \"Top Five\". Dawson has also provided voice-over work for Disney and DC.»\n",
      "[2] «Sarai Gonzalez | Sarai Isaura Gonzalez (born 2005) is an American Latina child actress who made her professional debut at the age of 11 on the Spanish-language \"\"Soy Yo\"\" (\"That's Me\") music video by Bomba Estéreo. Cast as a \"nerdy\" tween with a \"sassy\" and \"confident\" attitude, her performance turned her into a \"Latina icon\" for \"female empowerment, identity and self-worth\". She subsequently appeared in two get out the vote videos for Latinos in advance of the 2016 United States elections.»\n",
      "[3] «Gabriela (2001 film) | Gabriela is a 2001 American romance film, starring Seidy Lopez in the title role alongside Jaime Gomez as her admirer Mike. The film has been cited as an inspiration behind the Premiere Weekend Club, which supports Latino film-making.»\n",
      "\n",
      "Question: Which American actress who made their film debut in the 1995 teen drama \"Kids\" was the co-founder of Voto Latino?\n",
      "\n",
      "Reasoning: Let's think step by step in order to identify the American actress who made her film debut in \"Kids\" and is associated with Voto Latino. From the context, we see that Rosario Dawson made her film debut in \"Kids\" and is also mentioned as a political activist. Therefore, she is likely the co-founder of Voto Latino.\n",
      "\n",
      "Answer: Rosario Dawson\n",
      "\n",
      "---\n",
      "\n",
      "Context:\n",
      "[1] «Battle of Kursk | The Battle of Kursk was a Second World War engagement between German and Soviet forces on the Eastern Front near Kursk (450 km south-west of Moscow) in the Soviet Union during July and August 1943. The battle began with the launch of the German offensive, Operation Citadel (German: \"Unternehmen Zitadelle\" ), on 5 July, which had the objective of pinching off the Kursk salient with attacks on the base of the salient from north and south simultaneously. After the German offensive stalled on the northern side of the salient, on 12 July the Soviets commenced their Kursk Strategic Offensive Operation with the launch of Operation Kutuzov (Russian: Кутузов ) against the rear of the German forces in the northern side. On the southern side, the Soviets also launched powerful counterattacks the same day, one of which led to a large armoured clash, the Battle of Prokhorovka. On 3 August, the Soviets began the second phase of the Kursk Strategic Offensive Operation with the launch of Operation Polkovodets Rumyantsev (Russian: Полководец Румянцев ) against the German forces in the southern side of the Kursk salient.»\n",
      "[2] «Operation Mars | Operation Mars, also known as the Second Rzhev-Sychevka Offensive Operation (Russian: Вторая Ржевско-Сычёвская наступательная операция), was the codename for an offensive launched by Soviet forces against German forces during World War II. It took place between 25 November and 20 December 1942 around the Rzhev salient in the vicinity of Moscow.»\n",
      "[3] «Kholm Pocket | The Kholm Pocket (German: \"Kessel von Cholm\" ; Russian: Холмский котёл ) was the name given for the encirclement of German troops by the Red Army around Kholm south of Leningrad, during World War II on the Eastern Front, from 23 January 1942 until 5 May 1942. A much larger pocket was simultaneously surrounded in Demyansk, about 100 km to the northeast. These were the results of German retreat following their defeat during the Battle of Moscow.»\n",
      "\n",
      "Question: What is the code name for the German offensive that started this Second World War engagement on the Eastern Front (a few hundred kilometers from Moscow) between Soviet and German forces, which included 102nd Infantry Division?\n",
      "\n",
      "Reasoning: Let's think step by step in order to identify the specific German offensive mentioned in the context. The context describes the Battle of Kursk, which began with the launch of the German offensive known as Operation Citadel.\n",
      "\n",
      "Answer: Operation Citadel\n",
      "\n",
      "---\n",
      "\n",
      "Context:\n",
      "[1] «Kerry Condon | Kerry Condon (born 4 January 1983) is an Irish television and film actress, best known for her role as Octavia of the Julii in the HBO/BBC series \"Rome,\" as Stacey Ehrmantraut in AMC's \"Better Call Saul\" and as the voice of F.R.I.D.A.Y. in various films in the Marvel Cinematic Universe. She is also the youngest actress ever to play Ophelia in a Royal Shakespeare Company production of \"Hamlet.\"»\n",
      "[2] «Corona Riccardo | Corona Riccardo (c. 1878October 15, 1917) was an Italian born American actress who had a brief Broadway stage career before leaving to become a wife and mother. Born in Naples she came to acting in 1894 playing a Mexican girl in a play at the Empire Theatre. Wilson Barrett engaged her for a role in his play \"The Sign of the Cross\" which he took on tour of the United States. Riccardo played the role of Ancaria and later played Berenice in the same play. Robert B. Mantell in 1898 who struck by her beauty also cast her in two Shakespeare plays, \"Romeo and Juliet\" and \"Othello\". Author Lewis Strang writing in 1899 said Riccardo was the most promising actress in America at the time. Towards the end of 1898 Mantell chose her for another Shakespeare part, Ophelia im Hamlet. Afterwards she was due to join Augustin Daly's Theatre Company but Daly died in 1899. In 1899 she gained her biggest fame by playing Iras in the first stage production of Ben-Hur.»\n",
      "[3] «Judi Dench | Dame Judith Olivia \"Judi\" Dench, {'1': \", '2': \", '3': \", '4': \"} (born 9 December 1934) is an English actress and author. Dench made her professional debut in 1957 with the Old Vic Company. Over the following few years, she performed in several of Shakespeare's plays in such roles as Ophelia in \"Hamlet\", Juliet in \"Romeo and Juliet\", and Lady Macbeth in \"Macbeth\". Although most of her work during this period was in theatre, she also branched into film work and won a BAFTA Award as Most Promising Newcomer. She drew strong reviews for her leading role in the musical \"Cabaret\" in 1968.»\n",
      "\n",
      "Question: Who acted in the shot film The Shore and is also the youngest actress ever to play Ophelia in a Royal Shakespeare Company production of \"Hamlet.\" ?\n",
      "\n",
      "Reasoning: Let's think step by step in order to identify the actress who is known for both acting in \"The Shore\" and being the youngest to play Ophelia. We can refer to the context provided, particularly the first entry about Kerry Condon, who is mentioned as the youngest actress to play Ophelia in a Royal Shakespeare Company production of \"Hamlet.\"\n",
      "\n",
      "Answer: Kerry Condon\n",
      "\n",
      "---\n",
      "\n",
      "Context:\n",
      "[1] «Empire State Building | The Empire State Building is a 102-story skyscraper located on Fifth Avenue between West 33rd and 34th Streets in Midtown, Manhattan, New York City. It has a roof height of 1,250 feet (381 m), and with its antenna included, it stands a total of 1454 ft tall. Its name is derived from the nickname for New York, the Empire State.»\n",
      "[2] «Empire, Colombo | The Empire is a residential complex consisting of two identical towers of 33 and 37 floors. The towers consists of a total of 104 apartments, including four penthouses with floor space ranging from 2028 ft2 to around 4000 ft2 . The 131 m towers are built on a 1.03 acre site where the old Empire Theatre once stood.»\n",
      "[3] «15 Penn Plaza | 15 Penn Plaza, also known as the Vornado Tower, is a proposed 68-story tower in the Midtown Manhattan section of New York City planned by Vornado Realty Trust. It would have 430 units and 2,050,000 square feet (190,451 m²) of floor space. The Hiller Group is the designer. Despite only having 68 floors, it would be just 10 m shorter than the Empire State Building, which has 102 floors.»\n",
      "\n",
      "Question: How many floors does the Empire State Building have?\n",
      "\n",
      "Reasoning: Let's think step by step in order to\u001b[32m determine the number of floors in the Empire State Building. The context clearly states that the Empire State Building is a 102-story skyscraper.\n",
      "\n",
      "Answer: 102 floors\u001b[0m\n",
      "\n",
      "\n",
      "\n"
     ]
    }
   ],
   "source": [
    "mini.inspect_history(n=1)"
   ]
  },
  {
   "cell_type": "code",
   "execution_count": 12,
   "metadata": {},
   "outputs": [
    {
     "name": "stdout",
     "output_type": "stream",
     "text": [
      "generate_answer\n",
      "Example({'augmented': True, 'context': ['Tae Kwon Do Times | Tae Kwon Do Times is a magazine devoted to the martial art of taekwondo, and is published in the United States of America. While the title suggests that it focuses on taekwondo exclusively, the magazine also covers other Korean martial arts. \"Tae Kwon Do Times\" has published articles by a wide range of authors, including He-Young Kimm, Thomas Kurz, Scott Shaw, and Mark Van Schuyver.', \"Kwon Tae-man | Kwon Tae-man (born 1941) was an early Korean hapkido practitioner and a pioneer of the art, first in Korea and then in the United States. He formed one of the earliest dojang's for hapkido in the United States in Torrance, California, and has been featured in many magazine articles promoting the art.\", 'Hee Il Cho | Cho Hee Il (born October 13, 1940) is a prominent Korean-American master of taekwondo, holding the rank of 9th \"dan\" in the martial art. He has written 11 martial art books, produced 70 martial art training videos, and has appeared on more than 70 martial arts magazine covers. Cho won several national and international competitions as a taekwondo competitor, and has appeared in several films, including \"Fight to Win\", \"Best of the Best\", \"Bloodsport II\", and \"Bloodsport III\". He founded the Action International Martial Arts Association (AIMAA) in 1980, and is its President. Cho is a member of both \"Black Belt\" magazine\\'s Hall of Fame and \"Tae Kwon Do Times\" magazine\\'s Hall of Fame.'], 'question': 'Which magazine has published articles by Scott Shaw, Tae Kwon Do Times or Southwest Art?', 'rationale': 'determine which magazine published articles by Scott Shaw. The context mentions that \"Tae Kwon Do Times\" has published articles by a wide range of authors, including Scott Shaw. There is no mention of Scott Shaw in relation to \"Southwest Art.\" Therefore, we conclude that the magazine that published articles by Scott Shaw is \"Tae Kwon Do Times.\"', 'answer': 'Tae Kwon Do Times'}) (input_keys=None)\n",
      "\n"
     ]
    }
   ],
   "source": [
    "for name, parameter in compiled_rag.named_predictors():\n",
    "    print(name)\n",
    "    print(parameter.demos[0])\n",
    "    print()"
   ]
  },
  {
   "cell_type": "code",
   "execution_count": 14,
   "metadata": {},
   "outputs": [
    {
     "name": "stdout",
     "output_type": "stream",
     "text": [
      "Average Metric: 23 / 50  (46.0%)\n"
     ]
    },
    {
     "name": "stderr",
     "output_type": "stream",
     "text": [
      "/Users/kevinvegda/Desktop/code/dspy-projects/.venv/lib/python3.12/site-packages/dspy/evaluate/evaluate.py:266: FutureWarning: Setting an item of incompatible dtype is deprecated and will raise in a future error of pandas. Value '['False' '✔️ [True]' '✔️ [True]' '✔️ [True]' '✔️ [True]']' has dtype incompatible with bool, please explicitly cast to a compatible dtype first.\n",
      "  df.loc[:, metric_name] = df[metric_name].apply(\n"
     ]
    },
    {
     "data": {
      "text/html": [
       "<style type=\"text/css\">\n",
       "#T_50726 th {\n",
       "  text-align: left;\n",
       "}\n",
       "#T_50726 td {\n",
       "  text-align: left;\n",
       "}\n",
       "#T_50726_row0_col0, #T_50726_row0_col1, #T_50726_row0_col2, #T_50726_row0_col3, #T_50726_row0_col4, #T_50726_row0_col5, #T_50726_row1_col0, #T_50726_row1_col1, #T_50726_row1_col2, #T_50726_row1_col3, #T_50726_row1_col4, #T_50726_row1_col5, #T_50726_row2_col0, #T_50726_row2_col1, #T_50726_row2_col2, #T_50726_row2_col3, #T_50726_row2_col4, #T_50726_row2_col5, #T_50726_row3_col0, #T_50726_row3_col1, #T_50726_row3_col2, #T_50726_row3_col3, #T_50726_row3_col4, #T_50726_row3_col5, #T_50726_row4_col0, #T_50726_row4_col1, #T_50726_row4_col2, #T_50726_row4_col3, #T_50726_row4_col4, #T_50726_row4_col5 {\n",
       "  text-align: left;\n",
       "  white-space: pre-wrap;\n",
       "  word-wrap: break-word;\n",
       "  max-width: 400px;\n",
       "}\n",
       "</style>\n",
       "<table id=\"T_50726\">\n",
       "  <thead>\n",
       "    <tr>\n",
       "      <th class=\"blank level0\" >&nbsp;</th>\n",
       "      <th id=\"T_50726_level0_col0\" class=\"col_heading level0 col0\" >question</th>\n",
       "      <th id=\"T_50726_level0_col1\" class=\"col_heading level0 col1\" >example_answer</th>\n",
       "      <th id=\"T_50726_level0_col2\" class=\"col_heading level0 col2\" >gold_titles</th>\n",
       "      <th id=\"T_50726_level0_col3\" class=\"col_heading level0 col3\" >context</th>\n",
       "      <th id=\"T_50726_level0_col4\" class=\"col_heading level0 col4\" >pred_answer</th>\n",
       "      <th id=\"T_50726_level0_col5\" class=\"col_heading level0 col5\" >answer_exact_match</th>\n",
       "    </tr>\n",
       "  </thead>\n",
       "  <tbody>\n",
       "    <tr>\n",
       "      <th id=\"T_50726_level0_row0\" class=\"row_heading level0 row0\" >0</th>\n",
       "      <td id=\"T_50726_row0_col0\" class=\"data row0 col0\" >What is T. J. Lottie's husband's nickname?</td>\n",
       "      <td id=\"T_50726_row0_col1\" class=\"data row0 col1\" >Rip</td>\n",
       "      <td id=\"T_50726_row0_col2\" class=\"data row0 col2\" >{'Richard Hamilton (basketball)', 'T. J. Lottie'}</td>\n",
       "      <td id=\"T_50726_row0_col3\" class=\"data row0 col3\" >['T. J. Lottie | T. J. Lottie is an American singer. She was a member of the R&B group So Plush, which was on the...</td>\n",
       "      <td id=\"T_50726_row0_col4\" class=\"data row0 col4\" >Not provided</td>\n",
       "      <td id=\"T_50726_row0_col5\" class=\"data row0 col5\" >False</td>\n",
       "    </tr>\n",
       "    <tr>\n",
       "      <th id=\"T_50726_level0_row1\" class=\"row_heading level0 row1\" >1</th>\n",
       "      <td id=\"T_50726_row1_col0\" class=\"data row1 col0\" >Aniki-Bóbó is akin to a children's counting rhyme that has existed in various forms since well before when?</td>\n",
       "      <td id=\"T_50726_row1_col1\" class=\"data row1 col1\" >1820</td>\n",
       "      <td id=\"T_50726_row1_col2\" class=\"data row1 col2\" >{'Aniki-Bóbó', 'Eeny, meeny, miny, moe'}</td>\n",
       "      <td id=\"T_50726_row1_col3\" class=\"data row1 col3\" >['Aniki-Bóbó | Aniki-Bóbó is a 1942 Portuguese film directed by Manoel de Oliveira. It is his first feature-length film. The actors are mostly children from...</td>\n",
       "      <td id=\"T_50726_row1_col4\" class=\"data row1 col4\" >1820</td>\n",
       "      <td id=\"T_50726_row1_col5\" class=\"data row1 col5\" >✔️ [True]</td>\n",
       "    </tr>\n",
       "    <tr>\n",
       "      <th id=\"T_50726_level0_row2\" class=\"row_heading level0 row2\" >2</th>\n",
       "      <td id=\"T_50726_row2_col0\" class=\"data row2 col0\" >Estonian Philharmonic Chamber Choir won the grammy Award for Best Choral Performance for two songs by a composer born in what year ?</td>\n",
       "      <td id=\"T_50726_row2_col1\" class=\"data row2 col1\" >1935</td>\n",
       "      <td id=\"T_50726_row2_col2\" class=\"data row2 col2\" >{'Estonian Philharmonic Chamber Choir', 'Arvo Pärt'}</td>\n",
       "      <td id=\"T_50726_row2_col3\" class=\"data row2 col3\" >['Estonian Philharmonic Chamber Choir | The Estonian Philharmonic Chamber Choir (EPCC) is a professional choir based in Estonia. It was founded in 1981 by Tõnu...</td>\n",
       "      <td id=\"T_50726_row2_col4\" class=\"data row2 col4\" >1935</td>\n",
       "      <td id=\"T_50726_row2_col5\" class=\"data row2 col5\" >✔️ [True]</td>\n",
       "    </tr>\n",
       "    <tr>\n",
       "      <th id=\"T_50726_level0_row3\" class=\"row_heading level0 row3\" >3</th>\n",
       "      <td id=\"T_50726_row3_col0\" class=\"data row3 col0\" >What is the nationality of the woman who performed \"A Message to Your Heart\" at the Eurovision Song Contest in 1991?</td>\n",
       "      <td id=\"T_50726_row3_col1\" class=\"data row3 col1\" >British</td>\n",
       "      <td id=\"T_50726_row3_col2\" class=\"data row3 col2\" >{'A Message to Your Heart', 'Samantha Womack'}</td>\n",
       "      <td id=\"T_50726_row3_col3\" class=\"data row3 col3\" >['A Message to Your Heart | \"A Message to Your Heart\", written and composed by Paul Curtis, was the United Kingdom\\'s entry at the Eurovision...</td>\n",
       "      <td id=\"T_50726_row3_col4\" class=\"data row3 col4\" >British</td>\n",
       "      <td id=\"T_50726_row3_col5\" class=\"data row3 col5\" >✔️ [True]</td>\n",
       "    </tr>\n",
       "    <tr>\n",
       "      <th id=\"T_50726_level0_row4\" class=\"row_heading level0 row4\" >4</th>\n",
       "      <td id=\"T_50726_row4_col0\" class=\"data row4 col0\" >What musical was based on the 2003 film directed by Jon Favreau?</td>\n",
       "      <td id=\"T_50726_row4_col1\" class=\"data row4 col1\" >Elf</td>\n",
       "      <td id=\"T_50726_row4_col2\" class=\"data row4 col2\" >{'Elf: The Musical', 'Elf (film)'}</td>\n",
       "      <td id=\"T_50726_row4_col3\" class=\"data row4 col3\" >['The Big Empty (2003 film) | The Big Empty is a 2003 drama film directed and written by Steve Anderson. It stars Jon Favreau as...</td>\n",
       "      <td id=\"T_50726_row4_col4\" class=\"data row4 col4\" >Elf</td>\n",
       "      <td id=\"T_50726_row4_col5\" class=\"data row4 col5\" >✔️ [True]</td>\n",
       "    </tr>\n",
       "  </tbody>\n",
       "</table>\n"
      ],
      "text/plain": [
       "<pandas.io.formats.style.Styler at 0x3260064b0>"
      ]
     },
     "metadata": {},
     "output_type": "display_data"
    },
    {
     "data": {
      "text/html": [
       "\n",
       "                <div style='\n",
       "                    text-align: center;\n",
       "                    font-size: 16px;\n",
       "                    font-weight: bold;\n",
       "                    color: #555;\n",
       "                    margin: 10px 0;'>\n",
       "                    ... 45 more rows not displayed ...\n",
       "                </div>\n",
       "                "
      ],
      "text/plain": [
       "<IPython.core.display.HTML object>"
      ]
     },
     "metadata": {},
     "output_type": "display_data"
    },
    {
     "data": {
      "text/plain": [
       "46.0"
      ]
     },
     "execution_count": 14,
     "metadata": {},
     "output_type": "execute_result"
    }
   ],
   "source": [
    "from dspy.evaluate.evaluate import Evaluate\n",
    "\n",
    "evaluate_on_hotpotqa = Evaluate(devset = devset, num_threads=1, display_progress=False, display_table = 5)\n",
    "\n",
    "metric = dspy.evaluate.answer_exact_match\n",
    "evaluate_on_hotpotqa(compiled_rag, metric)"
   ]
  },
  {
   "cell_type": "code",
   "execution_count": 15,
   "metadata": {},
   "outputs": [
    {
     "name": "stdout",
     "output_type": "stream",
     "text": [
      "Average Metric: 13 / 50  (26.0%)\n"
     ]
    },
    {
     "name": "stderr",
     "output_type": "stream",
     "text": [
      "/Users/kevinvegda/Desktop/code/dspy-projects/.venv/lib/python3.12/site-packages/dspy/evaluate/evaluate.py:266: FutureWarning: Setting an item of incompatible dtype is deprecated and will raise in a future error of pandas. Value '['False' '✔️ [True]' 'False' 'False' 'False']' has dtype incompatible with bool, please explicitly cast to a compatible dtype first.\n",
      "  df.loc[:, metric_name] = df[metric_name].apply(\n"
     ]
    },
    {
     "data": {
      "text/html": [
       "<style type=\"text/css\">\n",
       "#T_d14a4 th {\n",
       "  text-align: left;\n",
       "}\n",
       "#T_d14a4 td {\n",
       "  text-align: left;\n",
       "}\n",
       "#T_d14a4_row0_col0, #T_d14a4_row0_col1, #T_d14a4_row0_col2, #T_d14a4_row0_col3, #T_d14a4_row0_col4, #T_d14a4_row0_col5, #T_d14a4_row1_col0, #T_d14a4_row1_col1, #T_d14a4_row1_col2, #T_d14a4_row1_col3, #T_d14a4_row1_col4, #T_d14a4_row1_col5, #T_d14a4_row2_col0, #T_d14a4_row2_col1, #T_d14a4_row2_col2, #T_d14a4_row2_col3, #T_d14a4_row2_col4, #T_d14a4_row2_col5, #T_d14a4_row3_col0, #T_d14a4_row3_col1, #T_d14a4_row3_col2, #T_d14a4_row3_col3, #T_d14a4_row3_col4, #T_d14a4_row3_col5, #T_d14a4_row4_col0, #T_d14a4_row4_col1, #T_d14a4_row4_col2, #T_d14a4_row4_col3, #T_d14a4_row4_col4, #T_d14a4_row4_col5 {\n",
       "  text-align: left;\n",
       "  white-space: pre-wrap;\n",
       "  word-wrap: break-word;\n",
       "  max-width: 400px;\n",
       "}\n",
       "</style>\n",
       "<table id=\"T_d14a4\">\n",
       "  <thead>\n",
       "    <tr>\n",
       "      <th class=\"blank level0\" >&nbsp;</th>\n",
       "      <th id=\"T_d14a4_level0_col0\" class=\"col_heading level0 col0\" >question</th>\n",
       "      <th id=\"T_d14a4_level0_col1\" class=\"col_heading level0 col1\" >example_answer</th>\n",
       "      <th id=\"T_d14a4_level0_col2\" class=\"col_heading level0 col2\" >gold_titles</th>\n",
       "      <th id=\"T_d14a4_level0_col3\" class=\"col_heading level0 col3\" >context</th>\n",
       "      <th id=\"T_d14a4_level0_col4\" class=\"col_heading level0 col4\" >pred_answer</th>\n",
       "      <th id=\"T_d14a4_level0_col5\" class=\"col_heading level0 col5\" >gold_passages_retrieved</th>\n",
       "    </tr>\n",
       "  </thead>\n",
       "  <tbody>\n",
       "    <tr>\n",
       "      <th id=\"T_d14a4_level0_row0\" class=\"row_heading level0 row0\" >0</th>\n",
       "      <td id=\"T_d14a4_row0_col0\" class=\"data row0 col0\" >What is T. J. Lottie's husband's nickname?</td>\n",
       "      <td id=\"T_d14a4_row0_col1\" class=\"data row0 col1\" >Rip</td>\n",
       "      <td id=\"T_d14a4_row0_col2\" class=\"data row0 col2\" >{'Richard Hamilton (basketball)', 'T. J. Lottie'}</td>\n",
       "      <td id=\"T_d14a4_row0_col3\" class=\"data row0 col3\" >['T. J. Lottie | T. J. Lottie is an American singer. She was a member of the R&B group So Plush, which was on the...</td>\n",
       "      <td id=\"T_d14a4_row0_col4\" class=\"data row0 col4\" >Not provided</td>\n",
       "      <td id=\"T_d14a4_row0_col5\" class=\"data row0 col5\" >False</td>\n",
       "    </tr>\n",
       "    <tr>\n",
       "      <th id=\"T_d14a4_level0_row1\" class=\"row_heading level0 row1\" >1</th>\n",
       "      <td id=\"T_d14a4_row1_col0\" class=\"data row1 col0\" >Aniki-Bóbó is akin to a children's counting rhyme that has existed in various forms since well before when?</td>\n",
       "      <td id=\"T_d14a4_row1_col1\" class=\"data row1 col1\" >1820</td>\n",
       "      <td id=\"T_d14a4_row1_col2\" class=\"data row1 col2\" >{'Aniki-Bóbó', 'Eeny, meeny, miny, moe'}</td>\n",
       "      <td id=\"T_d14a4_row1_col3\" class=\"data row1 col3\" >['Aniki-Bóbó | Aniki-Bóbó is a 1942 Portuguese film directed by Manoel de Oliveira. It is his first feature-length film. The actors are mostly children from...</td>\n",
       "      <td id=\"T_d14a4_row1_col4\" class=\"data row1 col4\" >1820</td>\n",
       "      <td id=\"T_d14a4_row1_col5\" class=\"data row1 col5\" >✔️ [True]</td>\n",
       "    </tr>\n",
       "    <tr>\n",
       "      <th id=\"T_d14a4_level0_row2\" class=\"row_heading level0 row2\" >2</th>\n",
       "      <td id=\"T_d14a4_row2_col0\" class=\"data row2 col0\" >Estonian Philharmonic Chamber Choir won the grammy Award for Best Choral Performance for two songs by a composer born in what year ?</td>\n",
       "      <td id=\"T_d14a4_row2_col1\" class=\"data row2 col1\" >1935</td>\n",
       "      <td id=\"T_d14a4_row2_col2\" class=\"data row2 col2\" >{'Estonian Philharmonic Chamber Choir', 'Arvo Pärt'}</td>\n",
       "      <td id=\"T_d14a4_row2_col3\" class=\"data row2 col3\" >['Estonian Philharmonic Chamber Choir | The Estonian Philharmonic Chamber Choir (EPCC) is a professional choir based in Estonia. It was founded in 1981 by Tõnu...</td>\n",
       "      <td id=\"T_d14a4_row2_col4\" class=\"data row2 col4\" >1935</td>\n",
       "      <td id=\"T_d14a4_row2_col5\" class=\"data row2 col5\" >False</td>\n",
       "    </tr>\n",
       "    <tr>\n",
       "      <th id=\"T_d14a4_level0_row3\" class=\"row_heading level0 row3\" >3</th>\n",
       "      <td id=\"T_d14a4_row3_col0\" class=\"data row3 col0\" >What is the nationality of the woman who performed \"A Message to Your Heart\" at the Eurovision Song Contest in 1991?</td>\n",
       "      <td id=\"T_d14a4_row3_col1\" class=\"data row3 col1\" >British</td>\n",
       "      <td id=\"T_d14a4_row3_col2\" class=\"data row3 col2\" >{'A Message to Your Heart', 'Samantha Womack'}</td>\n",
       "      <td id=\"T_d14a4_row3_col3\" class=\"data row3 col3\" >['A Message to Your Heart | \"A Message to Your Heart\", written and composed by Paul Curtis, was the United Kingdom\\'s entry at the Eurovision...</td>\n",
       "      <td id=\"T_d14a4_row3_col4\" class=\"data row3 col4\" >British</td>\n",
       "      <td id=\"T_d14a4_row3_col5\" class=\"data row3 col5\" >False</td>\n",
       "    </tr>\n",
       "    <tr>\n",
       "      <th id=\"T_d14a4_level0_row4\" class=\"row_heading level0 row4\" >4</th>\n",
       "      <td id=\"T_d14a4_row4_col0\" class=\"data row4 col0\" >What musical was based on the 2003 film directed by Jon Favreau?</td>\n",
       "      <td id=\"T_d14a4_row4_col1\" class=\"data row4 col1\" >Elf</td>\n",
       "      <td id=\"T_d14a4_row4_col2\" class=\"data row4 col2\" >{'Elf: The Musical', 'Elf (film)'}</td>\n",
       "      <td id=\"T_d14a4_row4_col3\" class=\"data row4 col3\" >['The Big Empty (2003 film) | The Big Empty is a 2003 drama film directed and written by Steve Anderson. It stars Jon Favreau as...</td>\n",
       "      <td id=\"T_d14a4_row4_col4\" class=\"data row4 col4\" >Elf</td>\n",
       "      <td id=\"T_d14a4_row4_col5\" class=\"data row4 col5\" >False</td>\n",
       "    </tr>\n",
       "  </tbody>\n",
       "</table>\n"
      ],
      "text/plain": [
       "<pandas.io.formats.style.Styler at 0x321f68ef0>"
      ]
     },
     "metadata": {},
     "output_type": "display_data"
    },
    {
     "data": {
      "text/html": [
       "\n",
       "                <div style='\n",
       "                    text-align: center;\n",
       "                    font-size: 16px;\n",
       "                    font-weight: bold;\n",
       "                    color: #555;\n",
       "                    margin: 10px 0;'>\n",
       "                    ... 45 more rows not displayed ...\n",
       "                </div>\n",
       "                "
      ],
      "text/plain": [
       "<IPython.core.display.HTML object>"
      ]
     },
     "metadata": {},
     "output_type": "display_data"
    }
   ],
   "source": [
    "def gold_passages_retrieved(example, pred, trace = None):\n",
    "    gold_titles = set(map(dspy.evaluate.normalize_text, example['gold_titles']))\n",
    "    found_titles = set(map(dspy.evaluate.normalize_text, [c.split('|')[0] for c in pred.context]))\n",
    "\n",
    "    return gold_titles.issubset(found_titles)\n",
    "\n",
    "compiled_rag_retrieval_score = evaluate_on_hotpotqa(compiled_rag, metric=gold_passages_retrieved)"
   ]
  },
  {
   "cell_type": "code",
   "execution_count": null,
   "metadata": {},
   "outputs": [],
   "source": []
  }
 ],
 "metadata": {
  "kernelspec": {
   "display_name": ".venv",
   "language": "python",
   "name": "python3"
  },
  "language_info": {
   "codemirror_mode": {
    "name": "ipython",
    "version": 3
   },
   "file_extension": ".py",
   "mimetype": "text/x-python",
   "name": "python",
   "nbconvert_exporter": "python",
   "pygments_lexer": "ipython3",
   "version": "3.12.5"
  }
 },
 "nbformat": 4,
 "nbformat_minor": 2
}
