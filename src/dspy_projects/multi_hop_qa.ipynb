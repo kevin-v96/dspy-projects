{
 "cells": [
  {
   "cell_type": "code",
   "execution_count": 1,
   "metadata": {},
   "outputs": [
    {
     "name": "stderr",
     "output_type": "stream",
     "text": [
      "/Users/kevinvegda/Desktop/code/dspy-projects/.venv/lib/python3.12/site-packages/tqdm/auto.py:21: TqdmWarning: IProgress not found. Please update jupyter and ipywidgets. See https://ipywidgets.readthedocs.io/en/stable/user_install.html\n",
      "  from .autonotebook import tqdm as notebook_tqdm\n"
     ]
    }
   ],
   "source": [
    "import dspy\n",
    "\n",
    "mini = dspy.OpenAI(model='gpt-4o-mini')\n",
    "colbertv2_wiki17_abstracts = dspy.ColBERTv2(url='http://20.102.90.50:2017/wiki17_abstracts')\n",
    "\n",
    "dspy.settings.configure(lm=mini, rm=colbertv2_wiki17_abstracts)"
   ]
  },
  {
   "cell_type": "code",
   "execution_count": 2,
   "metadata": {},
   "outputs": [
    {
     "name": "stderr",
     "output_type": "stream",
     "text": [
      "/Users/kevinvegda/Desktop/code/dspy-projects/.venv/lib/python3.12/site-packages/datasets/table.py:1421: FutureWarning: promote has been superseded by promote_options='default'.\n",
      "  table = cls._concat_blocks(blocks, axis=0)\n"
     ]
    },
    {
     "data": {
      "text/plain": [
       "(20, 50)"
      ]
     },
     "execution_count": 2,
     "metadata": {},
     "output_type": "execute_result"
    }
   ],
   "source": [
    "from dspy.datasets import HotPotQA\n",
    "\n",
    "# Load the dataset.\n",
    "dataset = HotPotQA(train_seed=1, train_size=20, eval_seed=2023, dev_size=50, test_size=0)\n",
    "\n",
    "# Tell DSPy that the 'question' field is the input. Any other fields are labels and/or metadata.\n",
    "trainset = [x.with_inputs('question') for x in dataset.train]\n",
    "devset = [x.with_inputs('question') for x in dataset.dev]\n",
    "\n",
    "len(trainset), len(devset)"
   ]
  },
  {
   "cell_type": "code",
   "execution_count": 3,
   "metadata": {},
   "outputs": [],
   "source": [
    "class GenerateAnswer(dspy.Signature):\n",
    "    \"\"\"Answer questions with short factoid answers.\"\"\"\n",
    "\n",
    "    context = dspy.InputField(desc=\"may contain relevant facts\")\n",
    "    question = dspy.InputField()\n",
    "    answer = dspy.OutputField(desc=\"often between 1 and 5 words\")"
   ]
  },
  {
   "cell_type": "code",
   "execution_count": 4,
   "metadata": {},
   "outputs": [],
   "source": [
    "class GenerateSearchQuery(dspy.Signature):\n",
    "    \"\"\"Write a simple search query that will help answer a complex question\"\"\"\n",
    "\n",
    "    context = dspy.InputField(desc=\"may contain relevant facts\")\n",
    "    question = dspy.InputField()\n",
    "    query = dspy.OutputField()"
   ]
  },
  {
   "cell_type": "code",
   "execution_count": 5,
   "metadata": {},
   "outputs": [],
   "source": [
    "from dsp.utils import deduplicate\n",
    "\n",
    "class SimplifiedBaleed(dspy.Module):\n",
    "    def __init__(self, passages_per_hop = 3, max_hops = 2):\n",
    "        super().__init__()\n",
    "\n",
    "        self.generate_query = [dspy.ChainOfThought(GenerateSearchQuery) for _ in range(max_hops)]\n",
    "        self.retrieve = dspy.Retrieve(k = passages_per_hop)\n",
    "        self.generate_answer = dspy.ChainOfThought(GenerateAnswer)\n",
    "        self.max_hops = max_hops\n",
    "\n",
    "    def forward(self, question):\n",
    "        context = []\n",
    "\n",
    "        for hop in range(self.max_hops):\n",
    "            query = self.generate_query[hop](context = context, question = question).query\n",
    "            passages = self.retrieve(query).passages\n",
    "            context = deduplicate(context + passages)\n",
    "\n",
    "        pred = self.generate_answer(context = context, question = question)\n",
    "        return dspy.Prediction(context = context, answer = pred.answer)"
   ]
  },
  {
   "cell_type": "code",
   "execution_count": 7,
   "metadata": {},
   "outputs": [
    {
     "data": {
      "text/plain": [
       "True"
      ]
     },
     "execution_count": 7,
     "metadata": {},
     "output_type": "execute_result"
    }
   ],
   "source": [
    "from dotenv import load_dotenv\n",
    "load_dotenv()"
   ]
  },
  {
   "cell_type": "code",
   "execution_count": 8,
   "metadata": {},
   "outputs": [
    {
     "name": "stdout",
     "output_type": "stream",
     "text": [
      "Question: What date was the original Evil Dead released?\n",
      "Predicted Answer: 1981\n",
      "Retrieved Contexts (truncated): ['Evil Dead (2013 film) | Evil Dead is a 2013 American supernatural horror film directed by Fede Alvarez (in his directorial debut), written by Rodo Sayagues and Alvarez and produced by Bruce Campbell, ...', 'The Evil Dead (disambiguation) | The Evil Dead is a 1981 horror film and a franchise of sequels and other media....', 'The Evil Dead | The Evil Dead is a 1981 American supernatural horror film written and directed by Sam Raimi and executive produced by Raimi and Bruce Campbell, who also stars alongside Ellen Sandweiss...', 'Evil Dead II | Evil Dead II (also known in publicity materials as Evil Dead 2: Dead by Dawn) is a 1987 American horror comedy film directed by Sam Raimi and a parody sequel to the 1981 horror film \"Th...']\n"
     ]
    }
   ],
   "source": [
    "my_question = \"What date was the original Evil Dead released?\"\n",
    "\n",
    "uncompiled_baleen = SimplifiedBaleed()\n",
    "pred = uncompiled_baleen(my_question)\n",
    "\n",
    "print(f\"Question: {my_question}\")\n",
    "print(f\"Predicted Answer: {pred.answer}\")\n",
    "print(f\"Retrieved Contexts (truncated): {[c[:200] + '...' for c in pred.context]}\")"
   ]
  },
  {
   "cell_type": "code",
   "execution_count": 9,
   "metadata": {},
   "outputs": [
    {
     "name": "stdout",
     "output_type": "stream",
     "text": [
      "\n",
      "\n",
      "\n",
      "\n",
      "Write a simple search query that will help answer a complex question\n",
      "\n",
      "---\n",
      "\n",
      "Follow the following format.\n",
      "\n",
      "Context: may contain relevant facts\n",
      "\n",
      "Question: ${question}\n",
      "\n",
      "Reasoning: Let's think step by step in order to ${produce the query}. We ...\n",
      "\n",
      "Query: ${query}\n",
      "\n",
      "---\n",
      "\n",
      "Context: N/A\n",
      "\n",
      "Question: What date was the original Evil Dead released?\n",
      "\n",
      "Reasoning: Let's think step by step in order to\u001b[32m find the release date of the original Evil Dead movie. We need to identify the title of the movie and then search for its release information.\n",
      "\n",
      "Query: \"Evil Dead original release date\"\u001b[0m\n",
      "\n",
      "\n",
      "\n",
      "\n",
      "\n",
      "\n",
      "\n",
      "Write a simple search query that will help answer a complex question\n",
      "\n",
      "---\n",
      "\n",
      "Follow the following format.\n",
      "\n",
      "Context: may contain relevant facts\n",
      "\n",
      "Question: ${question}\n",
      "\n",
      "Reasoning: Let's think step by step in order to ${produce the query}. We ...\n",
      "\n",
      "Query: ${query}\n",
      "\n",
      "---\n",
      "\n",
      "Context:\n",
      "[1] «Evil Dead (2013 film) | Evil Dead is a 2013 American supernatural horror film directed by Fede Alvarez (in his directorial debut), written by Rodo Sayagues and Alvarez and produced by Bruce Campbell, Robert Tapert and Sam Raimi. The film was shot in New Zealand outside of Auckland, lasting about a month. The fourth installment in the \"Evil Dead\" franchise, it serves as a soft reboot of the original 1981 film and as a continuation to the original film trilogy.»\n",
      "[2] «The Evil Dead (disambiguation) | The Evil Dead is a 1981 horror film and a franchise of sequels and other media.»\n",
      "[3] «The Evil Dead | The Evil Dead is a 1981 American supernatural horror film written and directed by Sam Raimi and executive produced by Raimi and Bruce Campbell, who also stars alongside Ellen Sandweiss and Betsy Baker. The film focuses on five college students vacationing in an isolated cabin in a remote wooded area. After they find an audiotape that releases a legion of demons and spirits, members of the group suffer from demonic possession, leading to increasingly gory mayhem. Raimi and the cast produced the short film \"Within the Woods\" as a \"prototype\" to build the interest of potential investors, which secured Raimi US$90,000 to produce \"The Evil Dead\". The film was shot on location in a remote cabin located in Morristown, Tennessee, in a difficult filming process that proved extremely uncomfortable for the majority of the cast and crew.»\n",
      "\n",
      "Question: What date was the original Evil Dead released?\n",
      "\n",
      "Reasoning: Let's think step by step in order to\u001b[32m produce the query. We need to identify the release date of the original \"Evil Dead\" film from the context provided. The context mentions both the 1981 film and its franchise, which suggests that the release date might be included in the details about the original film. We will focus on the information related to the 1981 film to extract the release date.\n",
      "\n",
      "Query: \"Evil Dead 1981 release date\"\u001b[0m\n",
      "\n",
      "\n",
      "\n",
      "\n",
      "\n",
      "\n",
      "\n",
      "Answer questions with short factoid answers.\n",
      "\n",
      "---\n",
      "\n",
      "Follow the following format.\n",
      "\n",
      "Context: may contain relevant facts\n",
      "\n",
      "Question: ${question}\n",
      "\n",
      "Reasoning: Let's think step by step in order to ${produce the answer}. We ...\n",
      "\n",
      "Answer: often between 1 and 5 words\n",
      "\n",
      "---\n",
      "\n",
      "Context:\n",
      "[1] «Evil Dead (2013 film) | Evil Dead is a 2013 American supernatural horror film directed by Fede Alvarez (in his directorial debut), written by Rodo Sayagues and Alvarez and produced by Bruce Campbell, Robert Tapert and Sam Raimi. The film was shot in New Zealand outside of Auckland, lasting about a month. The fourth installment in the \"Evil Dead\" franchise, it serves as a soft reboot of the original 1981 film and as a continuation to the original film trilogy.»\n",
      "[2] «The Evil Dead (disambiguation) | The Evil Dead is a 1981 horror film and a franchise of sequels and other media.»\n",
      "[3] «The Evil Dead | The Evil Dead is a 1981 American supernatural horror film written and directed by Sam Raimi and executive produced by Raimi and Bruce Campbell, who also stars alongside Ellen Sandweiss and Betsy Baker. The film focuses on five college students vacationing in an isolated cabin in a remote wooded area. After they find an audiotape that releases a legion of demons and spirits, members of the group suffer from demonic possession, leading to increasingly gory mayhem. Raimi and the cast produced the short film \"Within the Woods\" as a \"prototype\" to build the interest of potential investors, which secured Raimi US$90,000 to produce \"The Evil Dead\". The film was shot on location in a remote cabin located in Morristown, Tennessee, in a difficult filming process that proved extremely uncomfortable for the majority of the cast and crew.»\n",
      "[4] «Evil Dead II | Evil Dead II (also known in publicity materials as Evil Dead 2: Dead by Dawn) is a 1987 American horror comedy film directed by Sam Raimi and a parody sequel to the 1981 horror film \"The Evil Dead\". The film was written by Raimi and Scott Spiegel, produced by Robert Tapert, and stars Bruce Campbell as Ash Williams.»\n",
      "\n",
      "Question: What date was the original Evil Dead released?\n",
      "\n",
      "Reasoning: Let's think step by step in order to\u001b[32m determine the release date of the original Evil Dead film. The context mentions that \"The Evil Dead\" is a 1981 horror film. \n",
      "\n",
      "Answer: 1981\u001b[0m\n",
      "\n",
      "\n",
      "\n"
     ]
    }
   ],
   "source": [
    "mini.inspect_history(n=3)"
   ]
  },
  {
   "cell_type": "code",
   "execution_count": 10,
   "metadata": {},
   "outputs": [],
   "source": [
    "def validate_context_and_answer_and_hops(example, pred, trace=None):\n",
    "    if not dspy.evaluate.answer_exact_match(example, pred):\n",
    "        return False\n",
    "    if not dspy.evaluate.answer_passage_match(example, pred):\n",
    "        return False\n",
    "    \n",
    "    hops = [example.question] + [outputs.query for *_, outputs in trace if 'query' in outputs]\n",
    "\n",
    "    if max([len(h) for h in hops]) > 100:\n",
    "        return False\n",
    "    if any(dspy.evaluate.answer_exact_match_str(hops[idx], hops[:idx], frac = 0.8) for idx in range(2, len(hops))):\n",
    "        return False\n",
    "    \n",
    "    return True"
   ]
  },
  {
   "cell_type": "code",
   "execution_count": 11,
   "metadata": {},
   "outputs": [
    {
     "name": "stderr",
     "output_type": "stream",
     "text": [
      " 90%|█████████ | 18/20 [01:05<00:07,  3.61s/it]"
     ]
    },
    {
     "name": "stdout",
     "output_type": "stream",
     "text": [
      "Bootstrapped 4 full traces after 19 examples in round 0.\n"
     ]
    },
    {
     "name": "stderr",
     "output_type": "stream",
     "text": [
      "\n"
     ]
    }
   ],
   "source": [
    "from dspy.teleprompt import BootstrapFewShot\n",
    "\n",
    "teleprompter = BootstrapFewShot(metric = validate_context_and_answer_and_hops)\n",
    "compiled_baleen = teleprompter.compile(SimplifiedBaleed(), teacher = SimplifiedBaleed(passages_per_hop=2), trainset = trainset)"
   ]
  },
  {
   "cell_type": "code",
   "execution_count": 12,
   "metadata": {},
   "outputs": [],
   "source": [
    "from dspy.evaluate.evaluate import Evaluate\n",
    "\n",
    "# Define metric to check if we retrieved the correct documents\n",
    "def gold_passages_retrieved(example, pred, trace=None):\n",
    "    gold_titles = set(map(dspy.evaluate.normalize_text, example[\"gold_titles\"]))\n",
    "    found_titles = set(\n",
    "        map(dspy.evaluate.normalize_text, [c.split(\" | \")[0] for c in pred.context])\n",
    "    )\n",
    "    return gold_titles.issubset(found_titles)\n",
    "\n",
    "# Set up the `evaluate_on_hotpotqa` function. We'll use this many times below.\n",
    "evaluate_on_hotpotqa = Evaluate(devset=devset, num_threads=1, display_progress=True, display_table=5)\n"
   ]
  },
  {
   "cell_type": "code",
   "execution_count": 13,
   "metadata": {},
   "outputs": [
    {
     "name": "stderr",
     "output_type": "stream",
     "text": [
      "Average Metric: 34 / 50  (68.0): 100%|██████████| 50/50 [02:52<00:00,  3.46s/it]"
     ]
    },
    {
     "name": "stdout",
     "output_type": "stream",
     "text": [
      "Average Metric: 34 / 50  (68.0%)\n"
     ]
    },
    {
     "name": "stderr",
     "output_type": "stream",
     "text": [
      "\n",
      "/Users/kevinvegda/Desktop/code/dspy-projects/.venv/lib/python3.12/site-packages/dspy/evaluate/evaluate.py:266: FutureWarning: Setting an item of incompatible dtype is deprecated and will raise in a future error of pandas. Value '['✔️ [True]' '✔️ [True]' '✔️ [True]' '✔️ [True]' 'False']' has dtype incompatible with bool, please explicitly cast to a compatible dtype first.\n",
      "  df.loc[:, metric_name] = df[metric_name].apply(\n"
     ]
    },
    {
     "data": {
      "text/html": [
       "<style type=\"text/css\">\n",
       "#T_b7d87 th {\n",
       "  text-align: left;\n",
       "}\n",
       "#T_b7d87 td {\n",
       "  text-align: left;\n",
       "}\n",
       "#T_b7d87_row0_col0, #T_b7d87_row0_col1, #T_b7d87_row0_col2, #T_b7d87_row0_col3, #T_b7d87_row0_col4, #T_b7d87_row0_col5, #T_b7d87_row1_col0, #T_b7d87_row1_col1, #T_b7d87_row1_col2, #T_b7d87_row1_col3, #T_b7d87_row1_col4, #T_b7d87_row1_col5, #T_b7d87_row2_col0, #T_b7d87_row2_col1, #T_b7d87_row2_col2, #T_b7d87_row2_col3, #T_b7d87_row2_col4, #T_b7d87_row2_col5, #T_b7d87_row3_col0, #T_b7d87_row3_col1, #T_b7d87_row3_col2, #T_b7d87_row3_col3, #T_b7d87_row3_col4, #T_b7d87_row3_col5, #T_b7d87_row4_col0, #T_b7d87_row4_col1, #T_b7d87_row4_col2, #T_b7d87_row4_col3, #T_b7d87_row4_col4, #T_b7d87_row4_col5 {\n",
       "  text-align: left;\n",
       "  white-space: pre-wrap;\n",
       "  word-wrap: break-word;\n",
       "  max-width: 400px;\n",
       "}\n",
       "</style>\n",
       "<table id=\"T_b7d87\">\n",
       "  <thead>\n",
       "    <tr>\n",
       "      <th class=\"blank level0\" >&nbsp;</th>\n",
       "      <th id=\"T_b7d87_level0_col0\" class=\"col_heading level0 col0\" >question</th>\n",
       "      <th id=\"T_b7d87_level0_col1\" class=\"col_heading level0 col1\" >example_answer</th>\n",
       "      <th id=\"T_b7d87_level0_col2\" class=\"col_heading level0 col2\" >gold_titles</th>\n",
       "      <th id=\"T_b7d87_level0_col3\" class=\"col_heading level0 col3\" >context</th>\n",
       "      <th id=\"T_b7d87_level0_col4\" class=\"col_heading level0 col4\" >pred_answer</th>\n",
       "      <th id=\"T_b7d87_level0_col5\" class=\"col_heading level0 col5\" >gold_passages_retrieved</th>\n",
       "    </tr>\n",
       "  </thead>\n",
       "  <tbody>\n",
       "    <tr>\n",
       "      <th id=\"T_b7d87_level0_row0\" class=\"row_heading level0 row0\" >0</th>\n",
       "      <td id=\"T_b7d87_row0_col0\" class=\"data row0 col0\" >Are both Cangzhou and Qionghai in the Hebei province of China?</td>\n",
       "      <td id=\"T_b7d87_row0_col1\" class=\"data row0 col1\" >no</td>\n",
       "      <td id=\"T_b7d87_row0_col2\" class=\"data row0 col2\" >{'Qionghai', 'Cangzhou'}</td>\n",
       "      <td id=\"T_b7d87_row0_col3\" class=\"data row0 col3\" >['Cangzhou | Cangzhou () is a prefecture-level city in eastern Hebei province, People\\'s Republic of China. At the 2010 census, Cangzhou\\'s built-up (\"or metro\") area...</td>\n",
       "      <td id=\"T_b7d87_row0_col4\" class=\"data row0 col4\" >No</td>\n",
       "      <td id=\"T_b7d87_row0_col5\" class=\"data row0 col5\" >✔️ [True]</td>\n",
       "    </tr>\n",
       "    <tr>\n",
       "      <th id=\"T_b7d87_level0_row1\" class=\"row_heading level0 row1\" >1</th>\n",
       "      <td id=\"T_b7d87_row1_col0\" class=\"data row1 col0\" >Who conducts the draft in which Marc-Andre Fleury was drafted to the Vegas Golden Knights for the 2017-18 season?</td>\n",
       "      <td id=\"T_b7d87_row1_col1\" class=\"data row1 col1\" >National Hockey League</td>\n",
       "      <td id=\"T_b7d87_row1_col2\" class=\"data row1 col2\" >{'2017–18 Pittsburgh Penguins season', '2017 NHL Expansion Draft'}</td>\n",
       "      <td id=\"T_b7d87_row1_col3\" class=\"data row1 col3\" >[\"Marc-André Fleury | Marc-André Fleury (born November 28, 1984) is a French-Canadian professional ice hockey goaltender playing for the Vegas Golden Knights of the National...</td>\n",
       "      <td id=\"T_b7d87_row1_col4\" class=\"data row1 col4\" >National Hockey League</td>\n",
       "      <td id=\"T_b7d87_row1_col5\" class=\"data row1 col5\" >✔️ [True]</td>\n",
       "    </tr>\n",
       "    <tr>\n",
       "      <th id=\"T_b7d87_level0_row2\" class=\"row_heading level0 row2\" >2</th>\n",
       "      <td id=\"T_b7d87_row2_col0\" class=\"data row2 col0\" >The Wings entered a new era, following the retirement of which Canadian retired professional ice hockey player and current general manager of the Tampa Bay...</td>\n",
       "      <td id=\"T_b7d87_row2_col1\" class=\"data row2 col1\" >Steve Yzerman</td>\n",
       "      <td id=\"T_b7d87_row2_col2\" class=\"data row2 col2\" >{'2006–07 Detroit Red Wings season', 'Steve Yzerman'}</td>\n",
       "      <td id=\"T_b7d87_row2_col3\" class=\"data row2 col3\" >['Steve Yzerman | Stephen Gregory \"Steve\" Yzerman ( ; born May 9, 1965) is a Canadian retired professional ice hockey player and current general manager...</td>\n",
       "      <td id=\"T_b7d87_row2_col4\" class=\"data row2 col4\" >Steve Yzerman</td>\n",
       "      <td id=\"T_b7d87_row2_col5\" class=\"data row2 col5\" >✔️ [True]</td>\n",
       "    </tr>\n",
       "    <tr>\n",
       "      <th id=\"T_b7d87_level0_row3\" class=\"row_heading level0 row3\" >3</th>\n",
       "      <td id=\"T_b7d87_row3_col0\" class=\"data row3 col0\" >What river is near the Crichton Collegiate Church?</td>\n",
       "      <td id=\"T_b7d87_row3_col1\" class=\"data row3 col1\" >the River Tyne</td>\n",
       "      <td id=\"T_b7d87_row3_col2\" class=\"data row3 col2\" >{'Crichton Castle', 'Crichton Collegiate Church'}</td>\n",
       "      <td id=\"T_b7d87_row3_col3\" class=\"data row3 col3\" >[\"Crichton Collegiate Church | Crichton Collegiate Church is situated about 0.6 mi south west of the hamlet of Crichton in Midlothian, Scotland. Crichton itself is...</td>\n",
       "      <td id=\"T_b7d87_row3_col4\" class=\"data row3 col4\" >River Tyne</td>\n",
       "      <td id=\"T_b7d87_row3_col5\" class=\"data row3 col5\" >✔️ [True]</td>\n",
       "    </tr>\n",
       "    <tr>\n",
       "      <th id=\"T_b7d87_level0_row4\" class=\"row_heading level0 row4\" >4</th>\n",
       "      <td id=\"T_b7d87_row4_col0\" class=\"data row4 col0\" >In the 10th Century A.D. Ealhswith had a son called Æthelweard by which English king?</td>\n",
       "      <td id=\"T_b7d87_row4_col1\" class=\"data row4 col1\" >King Alfred the Great</td>\n",
       "      <td id=\"T_b7d87_row4_col2\" class=\"data row4 col2\" >{'Ealhswith', 'Æthelweard (son of Alfred)'}</td>\n",
       "      <td id=\"T_b7d87_row4_col3\" class=\"data row4 col3\" >[\"Æthelfrith of Mercia | Æthelfrith (fl. 880s – c. 904/915) was an ealdorman of southern Mercia, who flourished in the last two decades of the...</td>\n",
       "      <td id=\"T_b7d87_row4_col4\" class=\"data row4 col4\" >King Alfred the Great</td>\n",
       "      <td id=\"T_b7d87_row4_col5\" class=\"data row4 col5\" >False</td>\n",
       "    </tr>\n",
       "  </tbody>\n",
       "</table>\n"
      ],
      "text/plain": [
       "<pandas.io.formats.style.Styler at 0x148a9b2c0>"
      ]
     },
     "metadata": {},
     "output_type": "display_data"
    },
    {
     "data": {
      "text/html": [
       "\n",
       "                <div style='\n",
       "                    text-align: center;\n",
       "                    font-size: 16px;\n",
       "                    font-weight: bold;\n",
       "                    color: #555;\n",
       "                    margin: 10px 0;'>\n",
       "                    ... 45 more rows not displayed ...\n",
       "                </div>\n",
       "                "
      ],
      "text/plain": [
       "<IPython.core.display.HTML object>"
      ]
     },
     "metadata": {},
     "output_type": "display_data"
    },
    {
     "name": "stdout",
     "output_type": "stream",
     "text": [
      "## Retrieval Score for uncompiled Baleen: 70.0\n",
      "## Retrieval Score for compiled Baleen: 68.0\n"
     ]
    }
   ],
   "source": [
    "uncompiled_baleen_retrieval_score = evaluate_on_hotpotqa(uncompiled_baleen, metric=gold_passages_retrieved, display = False)\n",
    "compiled_baleen_retrieval_score = evaluate_on_hotpotqa(compiled_baleen, metric=gold_passages_retrieved)\n",
    "\n",
    "print(f\"## Retrieval Score for uncompiled Baleen: {uncompiled_baleen_retrieval_score}\")\n",
    "print(f\"## Retrieval Score for compiled Baleen: {compiled_baleen_retrieval_score}\")"
   ]
  },
  {
   "cell_type": "code",
   "execution_count": null,
   "metadata": {},
   "outputs": [],
   "source": []
  }
 ],
 "metadata": {
  "kernelspec": {
   "display_name": ".venv",
   "language": "python",
   "name": "python3"
  },
  "language_info": {
   "codemirror_mode": {
    "name": "ipython",
    "version": 3
   },
   "file_extension": ".py",
   "mimetype": "text/x-python",
   "name": "python",
   "nbconvert_exporter": "python",
   "pygments_lexer": "ipython3",
   "version": "3.12.5"
  }
 },
 "nbformat": 4,
 "nbformat_minor": 2
}
